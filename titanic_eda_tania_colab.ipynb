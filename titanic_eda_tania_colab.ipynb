{
 "cells": [
  {
   "cell_type": "markdown",
   "id": "47b7ef65",
   "metadata": {},
   "source": [
    "# Titanic EDA Project"
   ]
  },
  {
   "cell_type": "code",
   "execution_count": null,
   "id": "db01f0fc",
   "metadata": {},
   "outputs": [],
   "source": [
    "\n",
    "import pandas as pd\n",
    "import matplotlib.pyplot as plt\n",
    "import seaborn as sns\n",
    "\n",
    "# Optional: Make plots look better\n",
    "sns.set(style='whitegrid')\n"
   ]
  },
  {
   "cell_type": "code",
   "execution_count": null,
   "id": "28eb683e",
   "metadata": {},
   "outputs": [],
   "source": [
    "\n",
    "# Load the Data\n",
    "df = pd.read_csv('train.csv')  # Upload 'train.csv' to Colab or your notebook environment\n",
    "df.head()\n"
   ]
  },
  {
   "cell_type": "code",
   "execution_count": null,
   "id": "06bbd8f5",
   "metadata": {},
   "outputs": [],
   "source": [
    "\n",
    "# Basic Data Exploration\n",
    "print(df.info())\n",
    "print(df.describe())\n"
   ]
  },
  {
   "cell_type": "code",
   "execution_count": null,
   "id": "2d9b599a",
   "metadata": {},
   "outputs": [],
   "source": [
    "\n",
    "# Handle Missing Values\n",
    "df['Age'].fillna(df['Age'].median(), inplace=True)\n",
    "df['Embarked'].fillna(df['Embarked'].mode()[0], inplace=True)\n",
    "df.drop('Cabin', axis=1, inplace=True)\n"
   ]
  },
  {
   "cell_type": "code",
   "execution_count": null,
   "id": "2ffa0b42",
   "metadata": {},
   "outputs": [],
   "source": [
    "\n",
    "# Survival Count\n",
    "sns.countplot(x='Survived', data=df)\n",
    "plt.title(\"Survival Count\")\n",
    "plt.savefig(\"survival_count.png\")\n",
    "plt.show()\n",
    "\n",
    "# Survival by Gender\n",
    "sns.countplot(x='Sex', hue='Survived', data=df)\n",
    "plt.title(\"Survival by Gender\")\n",
    "plt.savefig(\"survival_by_gender.png\")\n",
    "plt.show()\n",
    "\n",
    "# Survival by Class\n",
    "sns.countplot(x='Pclass', hue='Survived', data=df)\n",
    "plt.title(\"Survival by Class\")\n",
    "plt.savefig(\"survival_by_class.png\")\n",
    "plt.show()\n",
    "\n",
    "# Age Distribution by Survival\n",
    "sns.histplot(data=df, x='Age', hue='Survived', bins=20, kde=True)\n",
    "plt.title(\"Age Distribution by Survival\")\n",
    "plt.savefig(\"age_distribution_by_survival.png\")\n",
    "plt.show()\n"
   ]
  },
  {
   "cell_type": "code",
   "execution_count": null,
   "id": "883574d8",
   "metadata": {},
   "outputs": [],
   "source": [
    "\n",
    "# Grouped Statistics\n",
    "print(df.groupby('Sex')['Survived'].mean())\n",
    "print(df.groupby('Pclass')['Survived'].mean())\n"
   ]
  }
 ],
 "metadata": {},
 "nbformat": 4,
 "nbformat_minor": 5
}
